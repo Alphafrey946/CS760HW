{
  "nbformat": 4,
  "nbformat_minor": 0,
  "metadata": {
    "colab": {
      "provenance": []
    },
    "kernelspec": {
      "name": "python3",
      "display_name": "Python 3"
    },
    "language_info": {
      "name": "python"
    }
  },
  "cells": [
    {
      "cell_type": "markdown",
      "source": [
        "## This is the jupyter notebook for generating results for CS760 HW2."
      ],
      "metadata": {
        "id": "49LKDpYW1Spo"
      }
    },
    {
      "cell_type": "code",
      "source": [
        "!pip install anytree ## anytree us used only for visualization\n"
      ],
      "metadata": {
        "colab": {
          "base_uri": "https://localhost:8080/"
        },
        "id": "5cV29ZNfycUw",
        "outputId": "7ddfc3be-4a7a-47e0-8943-ad94b5190977"
      },
      "execution_count": 1,
      "outputs": [
        {
          "output_type": "stream",
          "name": "stdout",
          "text": [
            "Looking in indexes: https://pypi.org/simple, https://us-python.pkg.dev/colab-wheels/public/simple/\n",
            "Requirement already satisfied: anytree in /usr/local/lib/python3.8/dist-packages (2.8.0)\n",
            "Requirement already satisfied: six>=1.9.0 in /usr/local/lib/python3.8/dist-packages (from anytree) (1.15.0)\n"
          ]
        }
      ]
    },
    {
      "cell_type": "code",
      "source": [
        "import numpy as np\n",
        "import random\n",
        "from anytree import Node, RenderTree\n",
        "import matplotlib.pyplot as plt\n",
        "from scipy.interpolate import lagrange\n",
        "from sklearn.metrics import mean_absolute_error\n",
        "from anytree.exporter import UniqueDotExporter\n",
        "from random import randint\n",
        "from DTree import Decisiontree"
      ],
      "metadata": {
        "id": "MFFj9yGWOOzf"
      },
      "execution_count": 3,
      "outputs": []
    },
    {
      "cell_type": "markdown",
      "source": [
        "## Helper functions"
      ],
      "metadata": {
        "id": "qZprH4fNz1yb"
      }
    },
    {
      "cell_type": "code",
      "source": [
        "def print_tree_(tree):\n",
        "    print(tree)\n",
        "    for item,value in tree.items():\n",
        "      if item =='Left':\n",
        "        return print_tree_(value)\n",
        "      elif item == 'Right':\n",
        "        return print_tree_(value)\n",
        "def tr(node,column):\n",
        "  if node['leaf'] == True:\n",
        "    result = node['Pred']\n",
        "    return node\n",
        "  else:\n",
        "    for item,value in node.items():\n",
        "      if item =='Threshold':\n",
        "        #print(column[int(value[1])],value[0])\n",
        "        if column[int(value[1])]>=value[0]:\n",
        "          return tr(node['Right'],column)\n",
        "        elif column[int(value[1])]<value[0]:\n",
        "          return tr(node['Left'],column)\n",
        "def tr_count(node,column,count):\n",
        "  if node['leaf'] == True:\n",
        "    result = node['Pred']\n",
        "    count+=1\n",
        "    return node,count\n",
        "  else:\n",
        "    for item,value in node.items():\n",
        "      if item =='Threshold':\n",
        "        count+=1\n",
        "        #print(column[int(value[1])],value[0])\n",
        "        if column[int(value[1])]>=value[0]:\n",
        "          return tr_count(node['Right'],column,count)\n",
        "        elif column[int(value[1])]<value[0]:\n",
        "          return tr_count(node['Left'],column,count)\n",
        "def print_tree_iter(node):\n",
        "  if node['leaf'] == True:\n",
        "    result = node['Pred']\n",
        "    return 0\n",
        "  else:\n",
        "    for item,value in node.items():\n",
        "      if item =='Threshold':\n",
        "        print(node['Right'],node['Left'])\n",
        "        if len(node['Right'])>0:\n",
        "            return print_tree_iter(node['Right'])\n",
        "        elif len(node['Left'])>0:\n",
        "            return print_tree_iter(node['Left'])"
      ],
      "metadata": {
        "id": "bmAjg2cxuwt_"
      },
      "execution_count": 5,
      "outputs": []
    },
    {
      "cell_type": "markdown",
      "source": [
        "## Q1(2)"
      ],
      "metadata": {
        "id": "2tOJeR-cz5u7"
      }
    },
    {
      "cell_type": "code",
      "source": [
        "datapoint_x = np.asarray( [0, 0, 1, 1])\n",
        "datapoint_y = np.asarray([0, 1, 0, 1])\n",
        "plt.plot(datapoint_x,datapoint_y,'o')\n",
        "plt.xlabel('x1')\n",
        "plt.ylabel('x2')\n",
        "plt.savefig('Q12.png')"
      ],
      "metadata": {
        "colab": {
          "base_uri": "https://localhost:8080/",
          "height": 279
        },
        "id": "ytTeLfR_IQ_P",
        "outputId": "0b37ad31-2ce2-405b-a626-15face2c5298"
      },
      "execution_count": 14,
      "outputs": [
        {
          "output_type": "display_data",
          "data": {
            "text/plain": [
              "<Figure size 432x288 with 1 Axes>"
            ],
            "image/png": "[encoded data removed]"
          },
          "metadata": {
            "needs_background": "light"
          }
        }
      ]
    },
    {
      "cell_type": "code",
      "source": [
        "D3leaves = np.loadtxt('D3leaves.txt')\n",
        "m3l = Decisiontree(D3leaves)\n",
        "m3l.tree = m3l._MakeSubtree(D3leaves)"
      ],
      "metadata": {
        "id": "Zo5btWnpZLxk"
      },
      "execution_count": 9,
      "outputs": []
    },
    {
      "cell_type": "markdown",
      "source": [
        "## Q1(4)"
      ],
      "metadata": {
        "id": "57rP8bSF1oXb"
      }
    },
    {
      "cell_type": "code",
      "source": [
        "m3l.tree"
      ],
      "metadata": {
        "colab": {
          "base_uri": "https://localhost:8080/"
        },
        "id": "L31oV4eygsbJ",
        "outputId": "c50acf3f-0e68-4134-d2c6-94e0bcdc4a3b"
      },
      "execution_count": 15,
      "outputs": [
        {
          "output_type": "execute_result",
          "data": {
            "text/plain": [
              "{'leaf': False,\n",
              " 'Threshold': [10.0, 0.0, 0.4459281986214854],\n",
              " 'Left': {'leaf': False,\n",
              "  'Threshold': [3.0, 1.0, 1.0],\n",
              "  'Left': {'leaf': True, 'Pred': 0},\n",
              "  'Right': {'leaf': True, 'Pred': 1}},\n",
              " 'Right': {'leaf': True, 'Pred': 1}}"
            ]
          },
          "metadata": {},
          "execution_count": 15
        }
      ]
    },
    {
      "cell_type": "code",
      "source": [
        "n1= Node(\"x1>=10\")\n",
        "n2 = Node(\"x2>=3\", parent=n1)\n",
        "n3 = Node(\"Prediction 1\", parent=n1)\n",
        "n4 = Node(\"Prediction 0\", parent=n2)\n",
        "n5 = Node(\"Prediction 1\", parent=n2)"
      ],
      "metadata": {
        "id": "AqTjKLRs0V3t"
      },
      "execution_count": 16,
      "outputs": []
    },
    {
      "cell_type": "code",
      "source": [
        "UniqueDotExporter(n1).to_picture(\"hw2q4.png\")"
      ],
      "metadata": {
        "id": "9J3Gl8Y41A7v"
      },
      "execution_count": 17,
      "outputs": []
    },
    {
      "cell_type": "markdown",
      "source": [
        "## Q1(5)"
      ],
      "metadata": {
        "id": "eA0YOUWL1uLR"
      }
    },
    {
      "cell_type": "code",
      "source": [
        "D1 = np.loadtxt('D1.txt')\n",
        "m1 = Decisiontree(D1)\n",
        "m1.tree = m1._MakeSubtree(D1)\n",
        "m1.tree"
      ],
      "metadata": {
        "colab": {
          "base_uri": "https://localhost:8080/"
        },
        "id": "pUt6AwGc4zUG",
        "outputId": "e7630815-58e8-4057-8bbf-05a3244f549f"
      },
      "execution_count": 21,
      "outputs": [
        {
          "output_type": "execute_result",
          "data": {
            "text/plain": [
              "{'leaf': False,\n",
              " 'Threshold': [0.201829, 1.0, 1.0],\n",
              " 'Left': {'leaf': True, 'Pred': 0},\n",
              " 'Right': {'leaf': True, 'Pred': 1}}"
            ]
          },
          "metadata": {},
          "execution_count": 21
        }
      ]
    },
    {
      "cell_type": "code",
      "source": [
        "n1= Node(\"x2>=0.201819\")\n",
        "n2 = Node(\"Prediction 0\", parent=n1)\n",
        "n3 = Node(\"Prediction 1\", parent=n1)\n",
        "UniqueDotExporter(n1).to_picture(\"hw2d1.png\")"
      ],
      "metadata": {
        "id": "8MkL0UH-5CeQ"
      },
      "execution_count": 22,
      "outputs": []
    },
    {
      "cell_type": "code",
      "source": [
        "D2 = np.loadtxt('D2.txt')\n",
        "m2 = Decisiontree(D2)\n",
        "m2.tree = m2._MakeSubtree(D2)\n",
        "m2.tree,m2.node"
      ],
      "metadata": {
        "colab": {
          "base_uri": "https://localhost:8080/"
        },
        "id": "2UaAHrDE5gmH",
        "outputId": "26915b00-4dc9-4591-a83c-2091ee8a41e9"
      },
      "execution_count": 20,
      "outputs": [
        {
          "output_type": "execute_result",
          "data": {
            "text/plain": [
              "({'leaf': False,\n",
              "  'Threshold': [0.533076, 0.0, 0.22361423147872875],\n",
              "  'Left': {'leaf': False,\n",
              "   'Threshold': [0.639018, 1.0, 0.4486436491300125],\n",
              "   'Left': {'leaf': False,\n",
              "    'Threshold': [0.534979, 1.0, 0.40466586413681],\n",
              "    'Left': {'leaf': True, 'Pred': 0},\n",
              "    'Right': {'leaf': False,\n",
              "     'Threshold': [0.409972, 0.0, 0.8760435872381857],\n",
              "     'Left': {'leaf': True, 'Pred': 0},\n",
              "     'Right': {'leaf': False,\n",
              "      'Threshold': [0.426073, 0.0, 0.5863039173675805],\n",
              "      'Left': {'leaf': False,\n",
              "       'Threshold': [0.417579, 0.0, 1.0],\n",
              "       'Left': {'leaf': True, 'Pred': 1},\n",
              "       'Right': {'leaf': True, 'Pred': 0}},\n",
              "      'Right': {'leaf': True, 'Pred': 1}}}},\n",
              "   'Right': {'leaf': False,\n",
              "    'Threshold': [0.111076, 0.0, 0.2952458910866506],\n",
              "    'Left': {'leaf': False,\n",
              "     'Threshold': [0.964767, 1.0, 1.0],\n",
              "     'Left': {'leaf': True, 'Pred': 0},\n",
              "     'Right': {'leaf': True, 'Pred': 1}},\n",
              "    'Right': {'leaf': False,\n",
              "     'Threshold': [0.861, 1.0, 0.28765312680298527],\n",
              "     'Left': {'leaf': False,\n",
              "      'Threshold': [0.33046, 0.0, 0.4566946030171244],\n",
              "      'Left': {'leaf': False,\n",
              "       'Threshold': [0.745406, 1.0, 0.34353546709586036],\n",
              "       'Left': {'leaf': True, 'Pred': 0},\n",
              "       'Right': {'leaf': False,\n",
              "        'Threshold': [0.254049, 0.0, 0.5540088863889814],\n",
              "        'Left': {'leaf': False,\n",
              "         'Threshold': [0.191915, 0.0, 0.40779039212721874],\n",
              "         'Left': {'leaf': True, 'Pred': 0},\n",
              "         'Right': {'leaf': False,\n",
              "          'Threshold': [0.792752, 1.0, 1.0],\n",
              "          'Left': {'leaf': True, 'Pred': 0},\n",
              "          'Right': {'leaf': True, 'Pred': 1}}},\n",
              "        'Right': {'leaf': True, 'Pred': 1}}},\n",
              "      'Right': {'leaf': True, 'Pred': 1}},\n",
              "     'Right': {'leaf': True, 'Pred': 1}}}},\n",
              "  'Right': {'leaf': False,\n",
              "   'Threshold': [0.383738, 1.0, 0.4641262502198527],\n",
              "   'Left': {'leaf': False,\n",
              "    'Threshold': [0.761423, 0.0, 0.3250336472079572],\n",
              "    'Left': {'leaf': False,\n",
              "     'Threshold': [0.301105, 1.0, 0.5735567610147991],\n",
              "     'Left': {'leaf': True, 'Pred': 0},\n",
              "     'Right': {'leaf': False,\n",
              "      'Threshold': [0.66337, 0.0, 1.0],\n",
              "      'Left': {'leaf': True, 'Pred': 0},\n",
              "      'Right': {'leaf': True, 'Pred': 1}}},\n",
              "    'Right': {'leaf': False,\n",
              "     'Threshold': [0.191206, 1.0, 0.42046852802142076],\n",
              "     'Left': {'leaf': False,\n",
              "      'Threshold': [0.90482, 0.0, 0.4095944448848447],\n",
              "      'Left': {'leaf': False,\n",
              "       'Threshold': [0.169053, 1.0, 0.7189824862341682],\n",
              "       'Left': {'leaf': True, 'Pred': 0},\n",
              "       'Right': {'leaf': False,\n",
              "        'Threshold': [0.850316, 0.0, 1.0],\n",
              "        'Left': {'leaf': True, 'Pred': 0},\n",
              "        'Right': {'leaf': True, 'Pred': 1}}},\n",
              "      'Right': {'leaf': False,\n",
              "       'Threshold': [0.037708, 1.0, 0.6767316494286766],\n",
              "       'Left': {'leaf': True, 'Pred': 0},\n",
              "       'Right': {'leaf': False,\n",
              "        'Threshold': [0.930371, 0.0, 0.5190438596301024],\n",
              "        'Left': {'leaf': False,\n",
              "         'Threshold': [0.927522, 0.0, 1.0],\n",
              "         'Left': {'leaf': True, 'Pred': 1},\n",
              "         'Right': {'leaf': True, 'Pred': 0}},\n",
              "        'Right': {'leaf': True, 'Pred': 1}}}},\n",
              "     'Right': {'leaf': True, 'Pred': 1}}},\n",
              "   'Right': {'leaf': False,\n",
              "    'Threshold': [0.550364, 0.0, 0.49712234572806496],\n",
              "    'Left': {'leaf': False,\n",
              "     'Threshold': [0.474971, 1.0, 1.0],\n",
              "     'Left': {'leaf': True, 'Pred': 0},\n",
              "     'Right': {'leaf': True, 'Pred': 1}},\n",
              "    'Right': {'leaf': True, 'Pred': 1}}}},\n",
              " 55)"
            ]
          },
          "metadata": {},
          "execution_count": 20
        }
      ]
    },
    {
      "cell_type": "markdown",
      "source": [
        "##Q1(6)\n",
        "Scatter plot for D1"
      ],
      "metadata": {
        "id": "T7tFfc9fKyD-"
      }
    },
    {
      "cell_type": "code",
      "source": [
        "x_scat_d1_l1 = D1[D1[:,-1]==1,0]\n",
        "y_scat_d1_l1 = D1[D1[:,-1]==1,1]\n",
        "x_scat_d1_l0 = D1[D1[:,-1]==0,0]\n",
        "y_scat_d1_l0 = D1[D1[:,-1]==0,1]\n",
        "plt.plot(x_scat_d1_l1, y_scat_d1_l1, 'o')\n",
        "plt.plot(x_scat_d1_l0 , y_scat_d1_l0, 'o')\n",
        "plt.xlabel('x1')\n",
        "plt.ylabel('x2')\n",
        "plt.savefig('D1scat.png')"
      ],
      "metadata": {
        "colab": {
          "base_uri": "https://localhost:8080/",
          "height": 279
        },
        "id": "xo444scVJuTS",
        "outputId": "08ce8bdc-0830-4dfd-9862-edaab48ed122"
      },
      "execution_count": 1261,
      "outputs": [
        {
          "output_type": "display_data",
          "data": {
            "text/plain": [
              "<Figure size 432x288 with 1 Axes>"
            ],
            "image/png": "[encoded data removed]"
          },
          "metadata": {
            "needs_background": "light"
          }
        }
      ]
    },
    {
      "cell_type": "markdown",
      "source": [
        "Scatter plot for D2"
      ],
      "metadata": {
        "id": "PkaXwOgf15lf"
      }
    },
    {
      "cell_type": "code",
      "source": [
        "x_scat_d2_l1 = D2[D2[:,-1]==1,0]\n",
        "y_scat_d2_l1 = D2[D2[:,-1]==1,1]\n",
        "x_scat_d2_l0 = D2[D2[:,-1]==0,0]\n",
        "y_scat_d2_l0 = D2[D2[:,-1]==0,1]\n",
        "plt.plot(x_scat_d2_l1, y_scat_d2_l1, 'o')\n",
        "plt.plot(x_scat_d2_l0 , y_scat_d2_l0, 'o')\n",
        "plt.savefig('D2scat.png')"
      ],
      "metadata": {
        "colab": {
          "base_uri": "https://localhost:8080/",
          "height": 265
        },
        "id": "vo4NgMaoLpdx",
        "outputId": "46dc8e37-6ed5-44f8-8553-ae50578ae7fc"
      },
      "execution_count": 1262,
      "outputs": [
        {
          "output_type": "display_data",
          "data": {
            "text/plain": [
              "<Figure size 432x288 with 1 Axes>"
            ],
            "image/png": "[encoded data removed]"
          },
          "metadata": {
            "needs_background": "light"
          }
        }
      ]
    },
    {
      "cell_type": "code",
      "source": [
        "Dbig = np.loadtxt('Dbig.txt')\n",
        "train_sample = random.sample(range(len(Dbig)), 10000)\n",
        "testingset =  Dbig[train_sample[8192:]]"
      ],
      "metadata": {
        "id": "LJflb3scRz11"
      },
      "execution_count": 1345,
      "outputs": []
    },
    {
      "cell_type": "code",
      "source": [
        "Dt1 = Dbig[train_sample[:8192]]\n",
        "Dt2 = Dbig[train_sample[:2048]]\n",
        "Dt3 = Dbig[train_sample[:512]]\n",
        "Dt4 = Dbig[train_sample[:128]]\n",
        "Dt5 = Dbig[train_sample[:32]]"
      ],
      "metadata": {
        "id": "zdeqCIcYdbEj"
      },
      "execution_count": 1346,
      "outputs": []
    },
    {
      "cell_type": "code",
      "source": [
        "x_scat_d1_l1 = Dt5[Dt5[:,-1]==1,0]\n",
        "y_scat_d1_l1 = Dt5[Dt5[:,-1]==1,1]\n",
        "x_scat_d1_l0 = Dt5[Dt5[:,-1]==0,0]\n",
        "y_scat_d1_l0 = Dt5[Dt5[:,-1]==0,1]\n",
        "plt.plot(x_scat_d1_l1, y_scat_d1_l1, 'o')\n",
        "plt.plot(x_scat_d1_l0 , y_scat_d1_l0, 'o')\n",
        "plt.xlabel('x1')\n",
        "plt.ylabel('x2')\n",
        "plt.savefig('Dt5scat.png')"
      ],
      "metadata": {
        "colab": {
          "base_uri": "https://localhost:8080/",
          "height": 279
        },
        "id": "cXayzMHPexr9",
        "outputId": "94af91b8-e3e7-467a-e04c-b46654c07a3d"
      },
      "execution_count": 1363,
      "outputs": [
        {
          "output_type": "display_data",
          "data": {
            "text/plain": [
              "<Figure size 432x288 with 1 Axes>"
            ],
            "image/png": "[encoded data removed]"
          },
          "metadata": {
            "needs_background": "light"
          }
        }
      ]
    },
    {
      "cell_type": "markdown",
      "source": [
        "## Q1(7)"
      ],
      "metadata": {
        "id": "-1xmIKj98N7l"
      }
    },
    {
      "cell_type": "code",
      "source": [
        "mt1 = Decisiontree(Dt1)\n",
        "mt1.tree = mt1._MakeSubtree(Dt1)\n",
        "mt1.node"
      ],
      "metadata": {
        "colab": {
          "base_uri": "https://localhost:8080/"
        },
        "id": "RpqSN8ZnSRwz",
        "outputId": "70d28a97-3e45-4c42-cfd4-21839be78e1e"
      },
      "execution_count": 1364,
      "outputs": [
        {
          "output_type": "execute_result",
          "data": {
            "text/plain": [
              "213"
            ]
          },
          "metadata": {},
          "execution_count": 1364
        }
      ]
    },
    {
      "cell_type": "code",
      "source": [
        "mt2 = Decisiontree(Dt2)\n",
        "mt2.tree = mt2._MakeSubtree(Dt2)\n",
        "mt2.node"
      ],
      "metadata": {
        "colab": {
          "base_uri": "https://localhost:8080/"
        },
        "id": "VxKXS5x_Sczv",
        "outputId": "2606089d-849c-48fb-e922-fcc0122ad2f7"
      },
      "execution_count": 1365,
      "outputs": [
        {
          "output_type": "execute_result",
          "data": {
            "text/plain": [
              "117"
            ]
          },
          "metadata": {},
          "execution_count": 1365
        }
      ]
    },
    {
      "cell_type": "code",
      "source": [
        "mt3 = Decisiontree(Dt3)\n",
        "mt3.tree = mt3._MakeSubtree(Dt3)\n",
        "mt3.node"
      ],
      "metadata": {
        "colab": {
          "base_uri": "https://localhost:8080/"
        },
        "id": "PXWkVlIoSdYn",
        "outputId": "31334947-ec53-4887-eaa0-076e2fd6ba32"
      },
      "execution_count": 1366,
      "outputs": [
        {
          "output_type": "execute_result",
          "data": {
            "text/plain": [
              "59"
            ]
          },
          "metadata": {},
          "execution_count": 1366
        }
      ]
    },
    {
      "cell_type": "code",
      "source": [
        "mt4 = Decisiontree(Dt4)\n",
        "mt4.tree = mt4._MakeSubtree(Dt4)\n",
        "mt4.node"
      ],
      "metadata": {
        "colab": {
          "base_uri": "https://localhost:8080/"
        },
        "id": "Ea34JCsaSdp0",
        "outputId": "88fcaab0-b82c-4bf8-880a-5d9df56a278d"
      },
      "execution_count": 1367,
      "outputs": [
        {
          "output_type": "execute_result",
          "data": {
            "text/plain": [
              "19"
            ]
          },
          "metadata": {},
          "execution_count": 1367
        }
      ]
    },
    {
      "cell_type": "code",
      "source": [
        "mt5 = Decisiontree(Dt5)\n",
        "mt5.tree = mt5._MakeSubtree(Dt5)\n",
        "mt5.node"
      ],
      "metadata": {
        "colab": {
          "base_uri": "https://localhost:8080/"
        },
        "id": "8yow9MzJSd5R",
        "outputId": "79a7dbc4-1d3b-4599-b44f-f48ffb61a2c4"
      },
      "execution_count": 1368,
      "outputs": [
        {
          "output_type": "execute_result",
          "data": {
            "text/plain": [
              "9"
            ]
          },
          "metadata": {},
          "execution_count": 1368
        }
      ]
    },
    {
      "cell_type": "markdown",
      "source": [
        "#calculate the accuracy"
      ],
      "metadata": {
        "id": "6e45T-HfTdOr"
      }
    },
    {
      "cell_type": "code",
      "source": [
        "count = 0\n",
        "node_count = []\n",
        "for i in range(len(testingset)):\n",
        "  result,node_count_= tr_count(mt1.tree,testingset[i,:2],0)\n",
        "  node_count.append(node_count_)\n",
        "  if result['Pred']==testingset[i,-1]:\n",
        "    count+=1\n",
        "count/len(testingset)"
      ],
      "metadata": {
        "colab": {
          "base_uri": "https://localhost:8080/"
        },
        "id": "mRESwTaxStpE",
        "outputId": "229febe7-07c6-4d7c-ee49-8baff95d0e7c"
      },
      "execution_count": 1356,
      "outputs": [
        {
          "output_type": "execute_result",
          "data": {
            "text/plain": [
              "0.9834070796460177"
            ]
          },
          "metadata": {},
          "execution_count": 1356
        }
      ]
    },
    {
      "cell_type": "code",
      "source": [
        "error = [0.9834070796460177,0.9701327433628318,0.9469026548672567,0.9286504424778761,0.8174778761061947]\n",
        "n = [213, 117,59,19,9]\n",
        "plt.plot(np.asarray(n),1-np.asarray(error))\n",
        "plt.xlabel('# of node')\n",
        "plt.ylabel('error')\n",
        "plt.savefig('nvserror.png')"
      ],
      "metadata": {
        "colab": {
          "base_uri": "https://localhost:8080/",
          "height": 279
        },
        "id": "UE9SkzUTTX43",
        "outputId": "f7b09299-456b-4ad5-f1be-aad4de67f479"
      },
      "execution_count": 1357,
      "outputs": [
        {
          "output_type": "display_data",
          "data": {
            "text/plain": [
              "<Figure size 432x288 with 1 Axes>"
            ],
            "image/png": "[encoded data removed]"
          },
          "metadata": {
            "needs_background": "light"
          }
        }
      ]
    },
    {
      "cell_type": "markdown",
      "source": [
        "## Q2 Using DecisionTreeClassifier from sklearn"
      ],
      "metadata": {
        "id": "Rj4_Yxy38iRh"
      }
    },
    {
      "cell_type": "code",
      "source": [
        "from sklearn.tree import DecisionTreeClassifier\n",
        "clf = DecisionTreeClassifier(criterion=\"entropy\")\n",
        "model = clf.fit(Dt1[:,:2], Dt1[:,-1])\n",
        "clf.tree_.node_count, model.score(testingset[:,:2], testingset[:,-1])"
      ],
      "metadata": {
        "colab": {
          "base_uri": "https://localhost:8080/"
        },
        "id": "RNDesETYUPD5",
        "outputId": "3122687b-1950-4a6c-8c54-a88b3f9740df"
      },
      "execution_count": 1369,
      "outputs": [
        {
          "output_type": "execute_result",
          "data": {
            "text/plain": [
              "(213, 0.9823008849557522)"
            ]
          },
          "metadata": {},
          "execution_count": 1369
        }
      ]
    },
    {
      "cell_type": "code",
      "source": [
        "model = clf.fit(Dt2[:,:2], Dt2[:,-1])\n",
        "clf.tree_.node_count, model.score(testingset[:,:2], testingset[:,-1])"
      ],
      "metadata": {
        "colab": {
          "base_uri": "https://localhost:8080/"
        },
        "id": "_CjOPcR0U6Ck",
        "outputId": "3b11e141-f181-4bf8-b7e7-c3571f9e310c"
      },
      "execution_count": 1370,
      "outputs": [
        {
          "output_type": "execute_result",
          "data": {
            "text/plain": [
              "(117, 0.9728982300884956)"
            ]
          },
          "metadata": {},
          "execution_count": 1370
        }
      ]
    },
    {
      "cell_type": "code",
      "source": [
        "model = clf.fit(Dt3[:,:2], Dt3[:,-1])\n",
        "clf.tree_.node_count, model.score(testingset[:,:2], testingset[:,-1])"
      ],
      "metadata": {
        "colab": {
          "base_uri": "https://localhost:8080/"
        },
        "id": "VkVuYdxJVA1j",
        "outputId": "18487afb-a5a3-4b1b-f22e-b9eada522190"
      },
      "execution_count": 1371,
      "outputs": [
        {
          "output_type": "execute_result",
          "data": {
            "text/plain": [
              "(55, 0.9579646017699115)"
            ]
          },
          "metadata": {},
          "execution_count": 1371
        }
      ]
    },
    {
      "cell_type": "code",
      "source": [
        "model = clf.fit(Dt4[:,:2], Dt4[:,-1])\n",
        "clf.tree_.node_count, model.score(testingset[:,:2], testingset[:,-1])"
      ],
      "metadata": {
        "colab": {
          "base_uri": "https://localhost:8080/"
        },
        "id": "5mpJjYpcVA-e",
        "outputId": "730eba38-8232-44df-e437-208bfb1f1a2c"
      },
      "execution_count": 1372,
      "outputs": [
        {
          "output_type": "execute_result",
          "data": {
            "text/plain": [
              "(19, 0.9303097345132744)"
            ]
          },
          "metadata": {},
          "execution_count": 1372
        }
      ]
    },
    {
      "cell_type": "code",
      "source": [
        "model = clf.fit(Dt5[:,:2], Dt5[:,-1])\n",
        "clf.tree_.node_count, model.score(testingset[:,:2], testingset[:,-1])"
      ],
      "metadata": {
        "colab": {
          "base_uri": "https://localhost:8080/"
        },
        "id": "-ngru8oNVBFM",
        "outputId": "ba54a840-4a4c-4f90-cd2f-c0f3bd6049e0"
      },
      "execution_count": 1373,
      "outputs": [
        {
          "output_type": "execute_result",
          "data": {
            "text/plain": [
              "(9, 0.8290929203539823)"
            ]
          },
          "metadata": {},
          "execution_count": 1373
        }
      ]
    },
    {
      "cell_type": "code",
      "source": [
        "error = [0.9823008849557522, 0.9728982300884956,0.9579646017699115,0.9303097345132744,0.8290929203539823]\n",
        "n = [213, 117,59,19,9]\n",
        "plt.plot(np.asarray(n),1-np.asarray(error))\n",
        "plt.xlabel('# of node')\n",
        "plt.ylabel('error')\n",
        "plt.savefig('nvserror_sklearn.png')"
      ],
      "metadata": {
        "colab": {
          "base_uri": "https://localhost:8080/",
          "height": 279
        },
        "id": "aLPVT1zdVI8S",
        "outputId": "f31715d2-f807-48c7-c3c6-cdb86bc4b020"
      },
      "execution_count": 1374,
      "outputs": [
        {
          "output_type": "display_data",
          "data": {
            "text/plain": [
              "<Figure size 432x288 with 1 Axes>"
            ],
            "image/png": "[encoded data removed]"
          },
          "metadata": {
            "needs_background": "light"
          }
        }
      ]
    },
    {
      "cell_type": "code",
      "source": [
        "1-np.asarray(error)"
      ],
      "metadata": {
        "colab": {
          "base_uri": "https://localhost:8080/"
        },
        "id": "stv8cLZ3iem0",
        "outputId": "fbedec11-f267-460a-8742-e784b846199b"
      },
      "execution_count": 1375,
      "outputs": [
        {
          "output_type": "execute_result",
          "data": {
            "text/plain": [
              "array([0.01769912, 0.02710177, 0.0420354 , 0.06969027, 0.17090708])"
            ]
          },
          "metadata": {},
          "execution_count": 1375
        }
      ]
    },
    {
      "cell_type": "markdown",
      "source": [
        "## Q3"
      ],
      "metadata": {
        "id": "SLpSMXle8SzR"
      }
    },
    {
      "cell_type": "code",
      "source": [
        "x = np.random.uniform(0,1,100)\n",
        "y = np.sin(x)\n",
        "lagrange_intep = lagrange(x, y)"
      ],
      "metadata": {
        "id": "N4bEAiOHqimd"
      },
      "execution_count": 1428,
      "outputs": []
    },
    {
      "cell_type": "code",
      "source": [
        "x_test = np.random.uniform(0,1,100)\n",
        "y_test = np.sin(x_test)"
      ],
      "metadata": {
        "id": "OwlWUR28rUuW"
      },
      "execution_count": 1429,
      "outputs": []
    },
    {
      "cell_type": "code",
      "source": [
        "mean_absolute_error(lagrange_intep(x),y)"
      ],
      "metadata": {
        "colab": {
          "base_uri": "https://localhost:8080/"
        },
        "id": "Whj2cAbasI33",
        "outputId": "e38b855f-e395-4cb7-fe15-8110838489c2"
      },
      "execution_count": 1430,
      "outputs": [
        {
          "output_type": "execute_result",
          "data": {
            "text/plain": [
              "1.8164823915036039e+78"
            ]
          },
          "metadata": {},
          "execution_count": 1430
        }
      ]
    },
    {
      "cell_type": "code",
      "source": [
        "mean_absolute_error(lagrange_intep(x_test),y_test)"
      ],
      "metadata": {
        "colab": {
          "base_uri": "https://localhost:8080/"
        },
        "id": "eUx6xwpErv8m",
        "outputId": "d6744051-7c59-42d4-f961-94ac4f974a88"
      },
      "execution_count": 1431,
      "outputs": [
        {
          "output_type": "execute_result",
          "data": {
            "text/plain": [
              "8.861581853640572e+77"
            ]
          },
          "metadata": {},
          "execution_count": 1431
        }
      ]
    },
    {
      "cell_type": "code",
      "source": [
        "x = np.random.uniform(0,1,100) \n",
        "noise = np.random.normal(0,1,100)\n",
        "y = np.sin(x)\n",
        "lagrange_intep = lagrange(x+noise, y)\n",
        "x_test = np.random.uniform(0,1,100)\n",
        "y_test = np.sin(x_test)"
      ],
      "metadata": {
        "id": "afp9cUFSs50A"
      },
      "execution_count": 1432,
      "outputs": []
    },
    {
      "cell_type": "code",
      "source": [
        "mean_absolute_error(lagrange_intep(x),y)"
      ],
      "metadata": {
        "colab": {
          "base_uri": "https://localhost:8080/"
        },
        "id": "TnAqU5K_s95H",
        "outputId": "7c8e81a7-4bbf-496f-948f-f29a568b8ca3"
      },
      "execution_count": 1433,
      "outputs": [
        {
          "output_type": "execute_result",
          "data": {
            "text/plain": [
              "3.79253028703254e+18"
            ]
          },
          "metadata": {},
          "execution_count": 1433
        }
      ]
    },
    {
      "cell_type": "code",
      "source": [
        "mean_absolute_error(lagrange_intep(x_test),y_test)"
      ],
      "metadata": {
        "colab": {
          "base_uri": "https://localhost:8080/"
        },
        "id": "g89l1U4Esg22",
        "outputId": "512c544a-80f3-44c7-a09f-b08276bc12f8"
      },
      "execution_count": 1434,
      "outputs": [
        {
          "output_type": "execute_result",
          "data": {
            "text/plain": [
              "1.4781164782151807e+19"
            ]
          },
          "metadata": {},
          "execution_count": 1434
        }
      ]
    },
    {
      "cell_type": "code",
      "source": [
        "x = np.random.uniform(0,1,100)\n",
        "noise = np.random.normal(0,2,100)\n",
        "y = np.sin(x)\n",
        "lagrange_intep = lagrange(x+noise, y)\n",
        "x_test = np.random.uniform(0,1,100)\n",
        "y_test = np.sin(x_test)"
      ],
      "metadata": {
        "id": "2OtN2Ru4tGUx"
      },
      "execution_count": 1435,
      "outputs": []
    },
    {
      "cell_type": "code",
      "source": [
        "mean_absolute_error(lagrange_intep(x),y)"
      ],
      "metadata": {
        "colab": {
          "base_uri": "https://localhost:8080/"
        },
        "id": "mpQVKGFAtJ4g",
        "outputId": "30d1a953-4c09-4d13-ee5c-993ee44c12cd"
      },
      "execution_count": 1436,
      "outputs": [
        {
          "output_type": "execute_result",
          "data": {
            "text/plain": [
              "4135138500.9663844"
            ]
          },
          "metadata": {},
          "execution_count": 1436
        }
      ]
    },
    {
      "cell_type": "code",
      "source": [
        "mean_absolute_error(lagrange_intep(x_test),y_test)"
      ],
      "metadata": {
        "colab": {
          "base_uri": "https://localhost:8080/"
        },
        "id": "BvODCCDitLIA",
        "outputId": "8578566f-1bfe-40b3-c014-f6e84b9971e4"
      },
      "execution_count": 1419,
      "outputs": [
        {
          "output_type": "execute_result",
          "data": {
            "text/plain": [
              "100164113734.91736"
            ]
          },
          "metadata": {},
          "execution_count": 1419
        }
      ]
    },
    {
      "cell_type": "code",
      "source": [],
      "metadata": {
        "id": "HHca7XeFAFdj"
      },
      "execution_count": null,
      "outputs": []
    }
  ]
}
