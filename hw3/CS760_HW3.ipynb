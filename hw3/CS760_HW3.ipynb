{
  "nbformat": 4,
  "nbformat_minor": 0,
  "metadata": {
    "colab": {
      "provenance": [],
      "toc_visible": true
    },
    "kernelspec": {
      "name": "python3",
      "display_name": "Python 3"
    },
    "language_info": {
      "name": "python"
    }
  },
  "cells": [
    {
      "cell_type": "code",
      "execution_count": 17,
      "metadata": {
        "id": "Z8SmHXftxjN9"
      },
      "outputs": [],
      "source": [
        "import numpy as np\n",
        "import pandas as pd\n",
        "import matplotlib.pyplot as plt\n",
        "from sklearn.model_selection import train_test_split\n",
        "from sklearn.metrics import precision_score\n",
        "from sklearn.metrics import recall_score\n",
        "from sklearn.metrics import accuracy_score\n",
        "from sklearn.metrics import roc_curve, auc\n",
        "from sklearn.neighbors import KNeighborsClassifier\n",
        "import warnings\n",
        "warnings.filterwarnings('ignore')"
      ]
    },
    {
      "cell_type": "markdown",
      "source": [
        "implement logsitic regression"
      ],
      "metadata": {
        "id": "Am2kW4ZEm0r_"
      }
    },
    {
      "cell_type": "code",
      "source": [
        "class LR:\n",
        "    def __init__(self,n, lr = 0.01, num_iter  =1000):\n",
        "        self.lr = lr\n",
        "        self.num_iter = num_iter\n",
        "        self.theta = np.zeros(n)\n",
        "        self.costs = np.zeros(num_iter )\n",
        "        self.epsilon = 1e-5\n",
        "    def sigmoid(self,theta,x):\n",
        "        return 1.0/(1 + np.exp(-np.dot(theta,x.T)+self.epsilon))\n",
        "    def cross_loss(self,y_hat,y):\n",
        "        return -(1.0/y_hat.shape[0]) * np.sum(y*np.log(y_hat+self.epsilon)+(1-y)*np.log(1-y_hat+self.epsilon))\n",
        "    def grad_theta(self, y_hat,x,y):\n",
        "        return np.dot(x.T,(y_hat - y))\n",
        "    def train(self,train, pred):\n",
        "        for i in range(self.num_iter):          \n",
        "          y_hat = self.sigmoid(self.theta,train)\n",
        "          self.theta = self.theta- self.lr*self.grad_theta( y_hat,train,pred).T\n",
        "          self.costs[i] = self.cross_loss(y_hat,pred)\n",
        "\n",
        "    def predict(self,test):\n",
        "          return self.sigmoid(self.theta,test),self.costs\n"
      ],
      "metadata": {
        "id": "ZxKu87BAXYg3"
      },
      "execution_count": 18,
      "outputs": []
    },
    {
      "cell_type": "markdown",
      "source": [
        "# Draw the ROC curve"
      ],
      "metadata": {
        "id": "C8NlhxzLkao6"
      }
    },
    {
      "cell_type": "code",
      "source": [
        "y = [0,2/6,4/6,1,1]\n",
        "x = [0,0,1/4,2/4,1]"
      ],
      "metadata": {
        "id": "l2gUOP0wxnxG"
      },
      "execution_count": 19,
      "outputs": []
    },
    {
      "cell_type": "code",
      "source": [
        "plt.xlim(-0.001,1.001)\n",
        "plt.ylim(-0.001,1.001)\n",
        "plt.plot(x, y, 'o-')\n",
        "plt.xlabel('false positive rate')\n",
        "plt.ylabel('true positive rate')\n",
        "plt.savefig('roc_curve.png')"
      ],
      "metadata": {
        "colab": {
          "base_uri": "https://localhost:8080/",
          "height": 283
        },
        "id": "PrkAVsoOxnS7",
        "outputId": "6788f809-486a-461c-dd56-a81e8bfe9336"
      },
      "execution_count": 20,
      "outputs": [
        {
          "output_type": "display_data",
          "data": {
            "text/plain": [
              "<Figure size 432x288 with 1 Axes>"
            ],
            "image/png": "[encoded data removed]"
          },
          "metadata": {
            "needs_background": "light"
          }
        }
      ]
    },
    {
      "cell_type": "markdown",
      "source": [
        "implement eculidean_distance using einstein noataion"
      ],
      "metadata": {
        "id": "zrvdIuII4S8N"
      }
    },
    {
      "cell_type": "code",
      "source": [
        "def Eculidean_distance(x,y):\n",
        "    #inspired by https://github.com/eth-cscs/SummerSchool2019/blob/master/topics/python-hpc/tutorials/euclidean-distance-matrix-numpy.ipynb\n",
        "    x_ = np.expand_dims(np.einsum('ij,ij->i',x, x), axis=-1)\n",
        "    y_ = np.einsum('ij,ij->i',y, y)\n",
        "    xy_ = 2*np.dot(x,y.T)\n",
        "    return x_+y_-xy_\n",
        "#def calculate_neighbors(x,y):"
      ],
      "metadata": {
        "id": "iUFiilPY3i_F"
      },
      "execution_count": 45,
      "outputs": []
    },
    {
      "cell_type": "markdown",
      "source": [
        "## Programming \n",
        "Q1"
      ],
      "metadata": {
        "id": "9QbzcPauW1HU"
      }
    },
    {
      "cell_type": "code",
      "source": [
        "d2z = np.loadtxt('D2z.txt')\n",
        "x_location = d2z[:,:2]\n",
        "label = d2z[:,2]"
      ],
      "metadata": {
        "id": "fUV6LMKvrtHY"
      },
      "execution_count": 46,
      "outputs": []
    },
    {
      "cell_type": "code",
      "source": [
        "x = np.linspace(-2, 2, 41)\n",
        "y = np.linspace(-2, 2, 41)\n",
        "g = np.meshgrid(x,y)\n",
        "position = np.append(g[0].reshape(-1,1),g[1].reshape(-1,1),axis=1)\n",
        "dist_matrix = Eculidean_distance(x_location,position)\n",
        "label_pos = []\n",
        "for i in range(len(position)):\n",
        "    label_pos.append(label[np.argmin(dist_matrix[:,i])])\n",
        "label_pos = np.asarray(label_pos)\n",
        "pos1 = position[label_pos ==1.0]\n",
        "pos0 = position[label_pos ==0.0]\n",
        "plt.plot(pos1[:,0],pos1[:,1],'.',color='red',markersize=2)\n",
        "plt.plot(pos0[:,0],pos0[:,1],'.',color='blue',markersize=2)\n",
        "x_location1 = x_location[label==1]\n",
        "plt.plot(x_location1[:,0],x_location1 [:,1],'+',color='red',markersize=2)\n",
        "x_location0 = x_location[label==0]\n",
        "plt.plot(x_location0[:,0],x_location0 [:,1],'o',color='blue',markersize=2)\n",
        "plt.savefig('p1p.png')"
      ],
      "metadata": {
        "colab": {
          "base_uri": "https://localhost:8080/",
          "height": 265
        },
        "id": "eSkOaPH4fVNK",
        "outputId": "f6c4c939-e6c0-478b-fd3f-5f38f5e71fa6"
      },
      "execution_count": 47,
      "outputs": [
        {
          "output_type": "display_data",
          "data": {
            "text/plain": [
              "<Figure size 432x288 with 1 Axes>"
            ],
            "image/png": "[encoded data removed]"
          },
          "metadata": {
            "needs_background": "light"
          }
        }
      ]
    },
    {
      "cell_type": "markdown",
      "source": [
        "Q2"
      ],
      "metadata": {
        "id": "0TFoThEAnQ7x"
      }
    },
    {
      "cell_type": "code",
      "source": [
        "##import emails.csv\n",
        "emails_data = pd.read_csv('emails.csv')"
      ],
      "metadata": {
        "id": "3zDeSOhJgOxj"
      },
      "execution_count": null,
      "outputs": []
    },
    {
      "cell_type": "markdown",
      "source": [
        "Perform 5 fold validation"
      ],
      "metadata": {
        "id": "66IT0bb5oOVk"
      }
    },
    {
      "cell_type": "code",
      "source": [
        "test1 = emails_data.values[:1000,1:-1].astype(dtype='float')\n",
        "train1 = emails_data.values[1000:,1:-1].astype(dtype='float')\n",
        "test1_label = emails_data.values[:1000,-1].astype(dtype='float')\n",
        "fold1_label = emails_data.values[1000:,-1].astype(dtype='float')"
      ],
      "metadata": {
        "id": "XiZ043crazFK"
      },
      "execution_count": 48,
      "outputs": []
    },
    {
      "cell_type": "code",
      "source": [
        "test2 = emails_data.values[1000:2000,1:-1].astype(dtype='float')\n",
        "test2_label  = emails_data.values[1000:2000,-1].astype(dtype='float')\n",
        "train2 = np.concatenate((emails_data.values[:1000,1:-1],emails_data.values[2000:,1:-1])).astype(dtype='float')\n",
        "fold2_label = np.concatenate((emails_data.values[:1000,-1],emails_data.values[2000:,-1])).astype(dtype='float')"
      ],
      "metadata": {
        "id": "2CNW6friLv5I"
      },
      "execution_count": 49,
      "outputs": []
    },
    {
      "cell_type": "code",
      "source": [
        "test3 = emails_data.values[2000:3000,1:-1].astype(dtype='float')\n",
        "test3_label  = emails_data.values[2000:3000,-1].astype(dtype='float')\n",
        "train3 = np.concatenate((emails_data.values[:2000,1:-1],emails_data.values[3000:,1:-1])).astype(dtype='float')\n",
        "fold3_label = np.concatenate((emails_data.values[:2000,-1],emails_data.values[3000:,-1])).astype(dtype='float')"
      ],
      "metadata": {
        "id": "sskIHtnaM_J6"
      },
      "execution_count": 50,
      "outputs": []
    },
    {
      "cell_type": "code",
      "source": [
        "test4 = emails_data.values[3000:4000,1:-1].astype(dtype='float')\n",
        "test4_label  = emails_data.values[3000:4000,-1].astype(dtype='float')\n",
        "train4 = np.concatenate((emails_data.values[:3000,1:-1],emails_data.values[4000:,1:-1])).astype(dtype='float')\n",
        "fold4_label = np.concatenate((emails_data.values[:3000,-1],emails_data.values[4000:,-1])).astype(dtype='float')"
      ],
      "metadata": {
        "id": "DDZvMr-6Nblj"
      },
      "execution_count": 51,
      "outputs": []
    },
    {
      "cell_type": "code",
      "source": [
        "test5 = emails_data.values[4000:,1:-1].astype(dtype='float')\n",
        "test5_label  = emails_data.values[4000:,-1].astype(dtype='float')\n",
        "train5 = emails_data.values[:4000,1:-1].astype(dtype='float')\n",
        "fold5_label = emails_data.values[:4000,-1].astype(dtype='float')"
      ],
      "metadata": {
        "id": "GXnBp3k_Nbux"
      },
      "execution_count": 52,
      "outputs": []
    },
    {
      "cell_type": "code",
      "source": [
        "X_train, X_test, y_train, y_test = train_test_split( emails_data.values[:,1:-1], emails_data.values[:,-1], test_size=0.2)"
      ],
      "metadata": {
        "id": "1qEoSVujvkgw"
      },
      "execution_count": 53,
      "outputs": []
    },
    {
      "cell_type": "code",
      "source": [
        "## use distnace as criteria\n",
        "dist_matrixq2 = Eculidean_distance(test1,train1)\n",
        "label_posq2 = []\n",
        "for i in range(len(train1)):\n",
        "    label_posq2.append(fold1_label[np.argmin(dist_matrixq2[:,i])])\n",
        "label_posq2 = np.asarray(label_posq2)"
      ],
      "metadata": {
        "id": "lER0-j7ftARZ"
      },
      "execution_count": 54,
      "outputs": []
    },
    {
      "cell_type": "code",
      "source": [
        "accuracy_score(fold1_label , label_posq2 )"
      ],
      "metadata": {
        "colab": {
          "base_uri": "https://localhost:8080/"
        },
        "id": "0CDpWgBLptj-",
        "outputId": "e946dabd-ba51-4341-e638-b021cd3c4d08"
      },
      "execution_count": 55,
      "outputs": [
        {
          "output_type": "execute_result",
          "data": {
            "text/plain": [
              "0.6135"
            ]
          },
          "metadata": {},
          "execution_count": 55
        }
      ]
    },
    {
      "cell_type": "code",
      "source": [
        "## use KNeighborsClassifier from sklearn\n",
        "var_const = vars()\n",
        "for i in range(1,6):\n",
        "  knnc = KNeighborsClassifier(n_neighbors=1)\n",
        "  train_name = 'train{}'.format(i)\n",
        "  test_name = 'test{}'.format(i)\n",
        "  train_label = 'fold{}_label'.format(i)\n",
        "  test_label = 'test{}_label'.format(i)\n",
        "  knnc.fit(var_const[train_name], var_const[train_label] )\n",
        "  y_pred = knnc.predict(var_const[test_name])\n",
        "  print('1NN accuracy for fold {} is {}, precision is {}, and recall is {}'.format(i,accuracy_score(var_const[test_label], y_pred ), \n",
        "                                                               precision_score(var_const[test_label], y_pred ),\n",
        "                                                               recall_score(var_const[test_label], y_pred) ))"
      ],
      "metadata": {
        "id": "GUp84-yLrStY",
        "colab": {
          "base_uri": "https://localhost:8080/"
        },
        "outputId": "63853e79-ac74-4289-9ab9-65104bacec8b"
      },
      "execution_count": 57,
      "outputs": [
        {
          "output_type": "stream",
          "name": "stdout",
          "text": [
            "1NN accuracy for fold 1 is 0.825, precision is 0.6544943820224719, and recall is 0.8175438596491228\n",
            "1NN accuracy for fold 2 is 0.853, precision is 0.6857142857142857, and recall is 0.8664259927797834\n",
            "1NN accuracy for fold 3 is 0.862, precision is 0.7212121212121212, and recall is 0.8380281690140845\n",
            "1NN accuracy for fold 4 is 0.851, precision is 0.7164179104477612, and recall is 0.8163265306122449\n",
            "1NN accuracy for fold 5 is 0.775, precision is 0.6057441253263708, and recall is 0.7581699346405228\n"
          ]
        }
      ]
    },
    {
      "cell_type": "code",
      "source": [
        "for i in range(1,6):\n",
        "  LR_ = LR(var_const[train_name].shape[1],lr = 0.005,num_iter  =2000)\n",
        "  train_name = 'train{}'.format(i)\n",
        "  test_name = 'test{}'.format(i)\n",
        "  train_label = 'fold{}_label'.format(i)\n",
        "  test_label = 'test{}_label'.format(i)\n",
        "  LR_.train(var_const[train_name], var_const[train_label] )\n",
        "  y_pred,loss_ = LR_.predict(var_const[test_name])\n",
        "\n",
        "  print('1NN accuracy for fold {} is {}, precision is {}, and recall is {}'.format(i,accuracy_score(var_const[test_label], np.round(y_pred) ), \n",
        "                                                               precision_score(var_const[test_label], np.round(y_pred)),\n",
        "                                                               recall_score(var_const[test_label], np.round(y_pred)) ))"
      ],
      "metadata": {
        "colab": {
          "base_uri": "https://localhost:8080/"
        },
        "id": "SrqmRxiCkdsA",
        "outputId": "be1d70e0-276a-4bcf-c848-eac1aa40f87d"
      },
      "execution_count": 58,
      "outputs": [
        {
          "output_type": "stream",
          "name": "stdout",
          "text": [
            "1NN accuracy for fold 1 is 0.927, precision is 0.9045801526717557, and recall is 0.8315789473684211\n",
            "1NN accuracy for fold 2 is 0.915, precision is 0.875, and recall is 0.8086642599277978\n",
            "1NN accuracy for fold 3 is 0.908, precision is 0.9137931034482759, and recall is 0.7464788732394366\n",
            "1NN accuracy for fold 4 is 0.903, precision is 0.9053497942386831, and recall is 0.7482993197278912\n",
            "1NN accuracy for fold 5 is 0.878, precision is 0.815068493150685, and recall is 0.7777777777777778\n"
          ]
        }
      ]
    },
    {
      "cell_type": "code",
      "source": [
        "var_const = vars()\n",
        "n_neighbors = 1\n",
        "accuracy_ = np.zeros(5)\n",
        "precision_ = np.zeros(5)\n",
        "recall_ = np.zeros(5)\n",
        "k_ = [1,3,5,7,10]\n",
        "count_=0\n",
        "for k in k_:\n",
        "    for i in range(1,6):\n",
        "        neigh = KNeighborsClassifier(n_neighbors=k)\n",
        "        train_name = 'train{}'.format(i)\n",
        "        test_name = 'test{}'.format(i)\n",
        "        train_label = 'fold{}_label'.format(i)\n",
        "        test_label = 'test{}_label'.format(i)\n",
        "        neigh.fit(var_const[train_name], var_const[train_label] )\n",
        "        y_pred = neigh.predict(var_const[test_name])\n",
        "        accuracy_[count_]+=accuracy_score(var_const[test_label], np.round(y_pred) )\n",
        "        precision_[count_]+=precision_score(var_const[test_label], np.round(y_pred) )\n",
        "        recall_[count_]+=recall_score(var_const[test_label], np.round(y_pred) )\n",
        "    count_+=1"
      ],
      "metadata": {
        "id": "1tWJjp4EvGoD"
      },
      "execution_count": 59,
      "outputs": []
    },
    {
      "cell_type": "code",
      "source": [
        "plt.plot(np.asarray(k_ ),accuracy_,'o-')\n",
        "plt.savefig('q24.png')"
      ],
      "metadata": {
        "colab": {
          "base_uri": "https://localhost:8080/",
          "height": 265
        },
        "id": "4yv8ftMYw937",
        "outputId": "439bee9a-b526-4615-e8fd-c7e65a922ac5"
      },
      "execution_count": 60,
      "outputs": [
        {
          "output_type": "display_data",
          "data": {
            "text/plain": [
              "<Figure size 432x288 with 1 Axes>"
            ],
            "image/png": "[encoded data removed]"
          },
          "metadata": {
            "needs_background": "light"
          }
        }
      ]
    },
    {
      "cell_type": "code",
      "source": [
        "knnc = KNeighborsClassifier(n_neighbors=5)\n",
        "knnc.fit(emails_data.values[:4000, 1:-1].astype(dtype='float'), emails_data.values[:4000, -1].astype(dtype='float'))\n",
        "y_pred = knnc.predict(emails_data.values[4000:, 1:-1].astype(dtype='float'))\n",
        "fpr, tpr, threshold = roc_curve( emails_data.values[4000:, -1].astype(dtype='float'), np.round(y_pred))\n",
        "\n",
        "lr_ = LR(emails_data.values[:4000, 1:-1].shape[1],lr = 0.01,num_iter  =1000)\n",
        "lr_.train(emails_data.values[:4000, 1:-1].astype(dtype='float'), emails_data.values[:4000, -1].astype(dtype='float') )\n",
        "y_pred1,loss_1 = lr_.predict(emails_data.values[4000:, 1:-1].astype(dtype='float'))\n",
        "fpr1, tpr1, threshold1 = roc_curve(emails_data.values[4000:, -1].astype(dtype='float'), np.round(y_pred1))"
      ],
      "metadata": {
        "id": "ooeutc9QyX_e"
      },
      "execution_count": 61,
      "outputs": []
    },
    {
      "cell_type": "code",
      "source": [
        "plt.plot(fpr, tpr,'b' ,label=\"kNN\")\n",
        "plt.plot(fpr1, tpr1,'g',label=\"Logistic Regression\")\n",
        "plt.legend(loc = 'lower right')\n",
        "plt.savefig('q251.png')"
      ],
      "metadata": {
        "colab": {
          "base_uri": "https://localhost:8080/",
          "height": 265
        },
        "id": "SBAxyVv4xJeJ",
        "outputId": "a0d9d047-7a12-4778-8ac1-32712dd97675"
      },
      "execution_count": 62,
      "outputs": [
        {
          "output_type": "display_data",
          "data": {
            "text/plain": [
              "<Figure size 432x288 with 1 Axes>"
            ],
            "image/png": "[encoded data removed]"
          },
          "metadata": {
            "needs_background": "light"
          }
        }
      ]
    },
    {
      "cell_type": "code",
      "source": [
        "lr_ = LR(emails_data.values[::, 1:-1].shape[1],lr = 0.005,num_iter  =2000)\n",
        "lr_.train(emails_data.values[:, 1:-1].astype(dtype='float'), emails_data.values[:, -1].astype(dtype='float') )\n",
        "y_pred1,loss_1 = lr_.predict(emails_data.values[:, 1:-1].astype(dtype='float'))\n",
        "fpr1, tpr1, threshold1 = roc_curve(emails_data.values[:, -1].astype(dtype='float'), np.round(y_pred1))"
      ],
      "metadata": {
        "id": "1m6FAv791-iU"
      },
      "execution_count": 63,
      "outputs": []
    },
    {
      "cell_type": "code",
      "source": [
        "plt.plot(fpr, tpr,'b' ,label=\"kNN\")\n",
        "plt.plot(fpr1, tpr1,'g',label=\"Logistic Regression\")\n",
        "plt.legend(loc = 'lower right')\n",
        "plt.savefig('q252.png')"
      ],
      "metadata": {
        "colab": {
          "base_uri": "https://localhost:8080/",
          "height": 265
        },
        "id": "jde_D5kA2Ah6",
        "outputId": "fa720310-69d4-46c9-f0fa-6893e6da9dcc"
      },
      "execution_count": 64,
      "outputs": [
        {
          "output_type": "display_data",
          "data": {
            "text/plain": [
              "<Figure size 432x288 with 1 Axes>"
            ],
            "image/png": "[encoded data removed]"
          },
          "metadata": {
            "needs_background": "light"
          }
        }
      ]
    }
  ]
}
